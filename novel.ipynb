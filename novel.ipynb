{
 "cells": [
  {
   "cell_type": "code",
   "execution_count": 2,
   "metadata": {},
   "outputs": [
    {
     "data": {
      "text/plain": [
       "<function TextIOWrapper.close()>"
      ]
     },
     "execution_count": 2,
     "metadata": {},
     "output_type": "execute_result"
    }
   ],
   "source": [
    "import requests\n",
    "import re \n",
    "import time\n",
    "headers = {'User-Agent':'Mozilla/5.0 (Linux; Android 6.0; Nexus 5 Build/MRA58N) AppleWebKit/537.36 (KHTML, like Gecko) Chrome/74.0.3729.169 Mobile Safari/537.36'}\n",
    "fw = open('./doupo.txt','a+')\n",
    "def get_info(url):#定义获取信息的函数\n",
    "    res = requests.get(url,headers)\n",
    "    if res.status_code == 200:\n",
    "        contents = re.findall('<p>(.*?)</p>',res.content.decode('utf-8'),re.S)\n",
    "        for content in contents:\n",
    "            fw.write(content+'\\n')\n",
    "    else:\n",
    "        pass\n",
    "urls = ['http://www.doupoxs.com/doupocangqiong/{}.html'.format(str(i)) for i in range(1,1646)]\n",
    "for url in urls:\n",
    "    get_info(url)\n",
    "    time.sleep(1)\n",
    "\n",
    "fw.close\n",
    "    "
   ]
  },
  {
   "cell_type": "code",
   "execution_count": null,
   "metadata": {},
   "outputs": [],
   "source": []
  }
 ],
 "metadata": {
  "kernelspec": {
   "display_name": "Python 3",
   "language": "python",
   "name": "python3"
  },
  "language_info": {
   "codemirror_mode": {
    "name": "ipython",
    "version": 3
   },
   "file_extension": ".py",
   "mimetype": "text/x-python",
   "name": "python",
   "nbconvert_exporter": "python",
   "pygments_lexer": "ipython3",
   "version": "3.6.8"
  }
 },
 "nbformat": 4,
 "nbformat_minor": 2
}
